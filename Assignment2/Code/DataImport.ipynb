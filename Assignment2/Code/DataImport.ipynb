{
  "cells": [
    {
      "cell_type": "code",
      "execution_count": null,
      "metadata": {
        "colab": {
          "base_uri": "https://localhost:8080/"
        },
        "id": "xaLFEC1OnVu5",
        "outputId": "857d9b30-de0e-411c-a4e0-3c948a50f110"
      },
      "outputs": [
        {
          "name": "stdout",
          "output_type": "stream",
          "text": [
            "Mounted at /content/drive/\n"
          ]
        }
      ],
      "source": [
        "from google.colab import drive\n",
        "drive.mount('/content/drive/')"
      ]
    },
    {
      "cell_type": "code",
      "execution_count": null,
      "metadata": {
        "id": "iycXI5BbolxW"
      },
      "outputs": [],
      "source": [
        "import pandas as pd\n",
        "import os\n",
        "import gzip\n",
        "import numpy as np"
      ]
    },
    {
      "cell_type": "code",
      "execution_count": null,
      "metadata": {
        "id": "9aGTaV6ZoUh_"
      },
      "outputs": [],
      "source": [
        "file_path = '/content/drive/MyDrive/Colab Notebooks/SENG 474/Assignment2/Assignment2/DATA/fashion-mnist/data/fashion'"
      ]
    },
    {
      "cell_type": "code",
      "execution_count": null,
      "metadata": {
        "id": "SEKRysi1nAwr"
      },
      "outputs": [],
      "source": [
        "def load_mnist(path, kind='train'):\n",
        "\n",
        "\n",
        "    \"\"\"Load MNIST data from `path`\"\"\"\n",
        "    labels_path = os.path.join(path,\n",
        "                               '%s-labels-idx1-ubyte.gz'\n",
        "                               % kind)\n",
        "    images_path = os.path.join(path,\n",
        "                               '%s-images-idx3-ubyte.gz'\n",
        "                               % kind)\n",
        "\n",
        "    with gzip.open(labels_path, 'rb') as lbpath:\n",
        "        labels = np.frombuffer(lbpath.read(), dtype=np.uint8,\n",
        "                               offset=8)\n",
        "\n",
        "    with gzip.open(images_path, 'rb') as imgpath:\n",
        "        images = np.frombuffer(imgpath.read(), dtype=np.uint8,\n",
        "                               offset=16).reshape(len(labels), 784)\n",
        "\n",
        "    return images, labels\n"
      ]
    },
    {
      "cell_type": "code",
      "execution_count": null,
      "metadata": {
        "id": "W0WeMXCSmyNA"
      },
      "outputs": [],
      "source": [
        "x_train, y_train = load_mnist(file_path, kind='train')\n",
        "x_test, y_test = load_mnist(file_path, kind='t10k')"
      ]
    },
    {
      "cell_type": "code",
      "execution_count": null,
      "metadata": {
        "colab": {
          "base_uri": "https://localhost:8080/"
        },
        "id": "15iCL5yIqQCk",
        "outputId": "9125720a-7500-45b9-a6f9-d36fd4b6cf41"
      },
      "outputs": [
        {
          "name": "stdout",
          "output_type": "stream",
          "text": [
            "(60000, 784)\n",
            "(60000,)\n",
            "(10000, 784)\n",
            "(10000,)\n"
          ]
        }
      ],
      "source": [
        "print(x_train.shape)\n",
        "print(y_train.shape)\n",
        "print(x_test.shape)\n",
        "print(y_test.shape)"
      ]
    },
    {
      "cell_type": "code",
      "execution_count": null,
      "metadata": {
        "colab": {
          "base_uri": "https://localhost:8080/"
        },
        "id": "YAR94rs6qRwM",
        "outputId": "76cfc568-210f-4239-8d0c-156cef782c4a"
      },
      "outputs": [
        {
          "name": "stdout",
          "output_type": "stream",
          "text": [
            "[  0   0   0   0   0   0   0   0   0   0   0   0   0   0   0   0   0   0\n",
            "   0   0   0   0   0   0   0   0   0   0   0   0   0   0   0   0   0   0\n",
            "   0   0   0   0   0   0   0   0   0   0   0   0   0   0   0   0   0   0\n",
            "   0   0   0   0   0   0   0   0   0   0   0   0   0   0   0   0   0   0\n",
            "   0   0   0   0   0   0   0   0   0   0   0   0   0   0   0   0   0   0\n",
            "   0   0   0   0   0   0   1   0   0  13  73   0   0   1   4   0   0   0\n",
            "   0   1   1   0   0   0   0   0   0   0   0   0   0   0   0   0   3   0\n",
            "  36 136 127  62  54   0   0   0   1   3   4   0   0   3   0   0   0   0\n",
            "   0   0   0   0   0   0   0   0   6   0 102 204 176 134 144 123  23   0\n",
            "   0   0   0  12  10   0   0   0   0   0   0   0   0   0   0   0   0   0\n",
            "   0   0 155 236 207 178 107 156 161 109  64  23  77 130  72  15   0   0\n",
            "   0   0   0   0   0   0   0   0   0   1   0  69 207 223 218 216 216 163\n",
            " 127 121 122 146 141  88 172  66   0   0   0   0   0   0   0   0   0   1\n",
            "   1   1   0 200 232 232 233 229 223 223 215 213 164 127 123 196 229   0\n",
            "   0   0   0   0   0   0   0   0   0   0   0   0   0 183 225 216 223 228\n",
            " 235 227 224 222 224 221 223 245 173   0   0   0   0   0   0   0   0   0\n",
            "   0   0   0   0   0 193 228 218 213 198 180 212 210 211 213 223 220 243\n",
            " 202   0   0   0   0   0   0   0   0   0   0   1   3   0  12 219 220 212\n",
            " 218 192 169 227 208 218 224 212 226 197 209  52   0   0   0   0   0   0\n",
            "   0   0   0   0   6   0  99 244 222 220 218 203 198 221 215 213 222 220\n",
            " 245 119 167  56   0   0   0   0   0   0   0   0   0   4   0   0  55 236\n",
            " 228 230 228 240 232 213 218 223 234 217 217 209  92   0   0   0   1   4\n",
            "   6   7   2   0   0   0   0   0 237 226 217 223 222 219 222 221 216 223\n",
            " 229 215 218 255  77   0   0   3   0   0   0   0   0   0   0  62 145 204\n",
            " 228 207 213 221 218 208 211 218 224 223 219 215 224 244 159   0   0   0\n",
            "   0   0  18  44  82 107 189 228 220 222 217 226 200 205 211 230 224 234\n",
            " 176 188 250 248 233 238 215   0   0  57 187 208 224 221 224 208 204 214\n",
            " 208 209 200 159 245 193 206 223 255 255 221 234 221 211 220 232 246   0\n",
            "   3 202 228 224 221 211 211 214 205 205 205 220 240  80 150 255 229 221\n",
            " 188 154 191 210 204 209 222 228 225   0  98 233 198 210 222 229 229 234\n",
            " 249 220 194 215 217 241  65  73 106 117 168 219 221 215 217 223 223 224\n",
            " 229  29  75 204 212 204 193 205 211 225 216 185 197 206 198 213 240 195\n",
            " 227 245 239 223 218 212 209 222 220 221 230  67  48 203 183 194 213 197\n",
            " 185 190 194 192 202 214 219 221 220 236 225 216 199 206 186 181 177 172\n",
            " 181 205 206 115   0 122 219 193 179 171 183 196 204 210 213 207 211 210\n",
            " 200 196 194 191 195 191 198 192 176 156 167 177 210  92   0   0  74 189\n",
            " 212 191 175 172 175 181 185 188 189 188 193 198 204 209 210 210 211 188\n",
            " 188 194 192 216 170   0   2   0   0   0  66 200 222 237 239 242 246 243\n",
            " 244 221 220 193 191 179 182 182 181 176 166 168  99  58   0   0   0   0\n",
            "   0   0   0   0   0  40  61  44  72  41  35   0   0   0   0   0   0   0\n",
            "   0   0   0   0   0   0   0   0   0   0   0   0   0   0   0   0   0   0\n",
            "   0   0   0   0   0   0   0   0   0   0   0   0   0   0   0   0   0   0\n",
            "   0   0   0   0   0   0   0   0   0   0   0   0   0   0   0   0   0   0\n",
            "   0   0   0   0   0   0   0   0   0   0]\n"
          ]
        }
      ],
      "source": [
        "print(x_train[0])"
      ]
    },
    {
      "cell_type": "code",
      "execution_count": null,
      "metadata": {
        "colab": {
          "base_uri": "https://localhost:8080/"
        },
        "id": "G2TEwdX9rTPC",
        "outputId": "c5fab77f-8c76-4fd2-bde1-5d5edbd0f624"
      },
      "outputs": [
        {
          "name": "stdout",
          "output_type": "stream",
          "text": [
            "9\n"
          ]
        }
      ],
      "source": [
        "print(y_train[0])"
      ]
    },
    {
      "cell_type": "code",
      "execution_count": null,
      "metadata": {
        "id": "tkHOH5cqqa-V"
      },
      "outputs": [],
      "source": [
        "#normalize\n",
        "x_train = x_train / 255.0\n",
        "x_test = x_test / 255.0"
      ]
    },
    {
      "cell_type": "code",
      "execution_count": null,
      "metadata": {
        "id": "CaOy35o2rYL2"
      },
      "outputs": [],
      "source": [
        "#Support vector machines\n",
        "    # Gaussian and linear --> reveiw\n",
        "#neural network-> pretty chill probably do scikit learn\n",
        "    #set up two layers probbaly (conv and dense)\n",
        "    "
      ]
    }
  ],
  "metadata": {
    "colab": {
      "provenance": []
    },
    "kernelspec": {
      "display_name": "Python 3",
      "name": "python3"
    },
    "language_info": {
      "name": "python"
    }
  },
  "nbformat": 4,
  "nbformat_minor": 0
}
